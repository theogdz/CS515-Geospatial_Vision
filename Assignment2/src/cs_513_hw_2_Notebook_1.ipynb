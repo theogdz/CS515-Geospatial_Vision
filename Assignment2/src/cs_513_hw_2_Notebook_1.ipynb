{
  "nbformat": 4,
  "nbformat_minor": 0,
  "metadata": {
    "colab": {
      "name": "cs 513 hw 2 Notebook 1.ipynb",
      "provenance": [],
      "collapsed_sections": [
        "46WFEhIOZCYQ",
        "yC4P8vOZY-1Y",
        "ue947CUK6JjW"
      ]
    },
    "kernelspec": {
      "name": "python3",
      "display_name": "Python 3"
    },
    "accelerator": "GPU"
  },
  "cells": [
    {
      "cell_type": "markdown",
      "metadata": {
        "id": "SQPuVR2lTptv"
      },
      "source": [
        "Notebook 1"
      ]
    },
    {
      "cell_type": "markdown",
      "metadata": {
        "id": "46WFEhIOZCYQ"
      },
      "source": [
        "# Set up"
      ]
    },
    {
      "cell_type": "markdown",
      "metadata": {
        "id": "8vZgflfqT5_F"
      },
      "source": [
        "Import necessary libraries, upload the CSVs to google colab, and convert them into pandas dataframes"
      ]
    },
    {
      "cell_type": "code",
      "metadata": {
        "id": "0CXIGfzezJFd"
      },
      "source": [
        "import numpy as np\r\n",
        "import pandas as pd\r\n",
        "from google.colab import files\r\n",
        "import io\r\n",
        "import math"
      ],
      "execution_count": null,
      "outputs": []
    },
    {
      "cell_type": "code",
      "metadata": {
        "colab": {
          "resources": {
            "http://localhost:8080/nbextensions/google.colab/files.js": {
              "data": "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",
              "ok": true,
              "headers": [
                [
                  "content-type",
                  "application/javascript"
                ]
              ],
              "status": 200,
              "status_text": "OK"
            }
          },
          "base_uri": "https://localhost:8080/",
          "height": 107
        },
        "id": "le8TLU-cz__Q",
        "outputId": "c97ecdef-796e-4f95-86ea-01771d09976f"
      },
      "source": [
        "from google.colab import files\r\n",
        "uploaded = files.upload()"
      ],
      "execution_count": null,
      "outputs": [
        {
          "output_type": "display_data",
          "data": {
            "text/html": [
              "\n",
              "     <input type=\"file\" id=\"files-beda79e4-66ee-431f-80fa-8485e02b8e48\" name=\"files[]\" multiple disabled\n",
              "        style=\"border:none\" />\n",
              "     <output id=\"result-beda79e4-66ee-431f-80fa-8485e02b8e48\">\n",
              "      Upload widget is only available when the cell has been executed in the\n",
              "      current browser session. Please rerun this cell to enable.\n",
              "      </output>\n",
              "      <script src=\"/nbextensions/google.colab/files.js\"></script> "
            ],
            "text/plain": [
              "<IPython.core.display.HTML object>"
            ]
          },
          "metadata": {
            "tags": []
          }
        },
        {
          "output_type": "stream",
          "text": [
            "Saving Partition6467LinkData.csv to Partition6467LinkData.csv\n",
            "Saving Partition6467ProbePoints.csv to Partition6467ProbePoints.csv\n"
          ],
          "name": "stdout"
        }
      ]
    },
    {
      "cell_type": "code",
      "metadata": {
        "id": "_VdPsKDq0W96"
      },
      "source": [
        "probeCols = ['sampleID', 'dateTime', 'sourceCode', 'latitude', 'longitude', 'altitude', 'speed', 'heading']\r\n",
        "linkCols = ['linkPVID', 'refNodeID', 'nrefNodeID', 'length', 'functionalClass', 'directionOfTravel', 'speedCategory', \r\n",
        "            'fromRefSpeedLimit', 'toRefSpeedLimit', 'fromRefNumLanes', 'toRefNumLanes', 'multiDigitized', 'urban', \r\n",
        "            'timeZone', 'shapeInfo', 'curvatureInfo', 'slopeInfo']\r\n",
        "matchCols = ['sampleID', 'dateTime', 'sourceCode', 'latitude', 'longitude', 'altitude', 'speed', 'heading', \r\n",
        "             'linkPVID', 'direction', 'distFromRef', 'distFromLink']"
      ],
      "execution_count": null,
      "outputs": []
    },
    {
      "cell_type": "code",
      "metadata": {
        "id": "4edxTzFZr8H1"
      },
      "source": [
        "probePoints = pd.read_csv(io.BytesIO(uploaded['Partition6467ProbePoints.csv']), ',', header=None, names=probeCols)\r\n",
        "linkData = pd.read_csv(io.BytesIO(uploaded['Partition6467LinkData.csv']), ',', header=None, names=linkCols)"
      ],
      "execution_count": null,
      "outputs": []
    },
    {
      "cell_type": "markdown",
      "metadata": {
        "id": "yC4P8vOZY-1Y"
      },
      "source": [
        "# Parsing"
      ]
    },
    {
      "cell_type": "markdown",
      "metadata": {
        "id": "M0t48TJRB_fx"
      },
      "source": [
        "Function to parse the columns that contain lists in LinkData"
      ]
    },
    {
      "cell_type": "code",
      "metadata": {
        "id": "QNQFPJBgyS2G"
      },
      "source": [
        "def stof(x):\r\n",
        "  if x is not '':\r\n",
        "    return float(x)\r\n",
        "  else:\r\n",
        "    return np.NaN\r\n",
        "\r\n",
        "def parseInfo(x):\r\n",
        "  if x is not None and x is not np.NaN:\r\n",
        "    a = x.split('|')\r\n",
        "    z = []\r\n",
        "    for y in a:\r\n",
        "      z.append(tuple(map(stof, y.split('/'))))\r\n",
        "    return z"
      ],
      "execution_count": null,
      "outputs": []
    },
    {
      "cell_type": "markdown",
      "metadata": {
        "id": "1ZYIP5VaCLnU"
      },
      "source": [
        "Modify the dataframes with the parsing function"
      ]
    },
    {
      "cell_type": "code",
      "metadata": {
        "id": "RL9SaJ7pB-PF"
      },
      "source": [
        "linkData['shapeInfo'] = linkData['shapeInfo'].apply(parseInfo)\r\n",
        "linkData['curvatureInfo'] = linkData['curvatureInfo'].apply(parseInfo)\r\n",
        "linkData['slopeInfo'] = linkData['slopeInfo'].apply(parseInfo)"
      ],
      "execution_count": null,
      "outputs": []
    },
    {
      "cell_type": "markdown",
      "metadata": {
        "id": "ue947CUK6JjW"
      },
      "source": [
        "# Approach #1\r\n",
        "## DO NOT ATTEMPT TO RUN"
      ]
    },
    {
      "cell_type": "markdown",
      "metadata": {
        "id": "8DgSjNbRUWIJ"
      },
      "source": [
        "create the output dataframe"
      ]
    },
    {
      "cell_type": "code",
      "metadata": {
        "id": "K6bdHQh0frC6"
      },
      "source": [
        "matchedPoints = pd.DataFrame(columns=matchCols)"
      ],
      "execution_count": null,
      "outputs": []
    },
    {
      "cell_type": "markdown",
      "metadata": {
        "id": "mQus9vBLUZn2"
      },
      "source": [
        "Distance from point to line segment\r\n",
        "[geeksforgeeks.org/minimum-distance-from-a-point-to-the-line-segment-using-vectors](geeksforgeeks.org/minimum-distance-from-a-point-to-the-line-segment-using-vectors)"
      ]
    },
    {
      "cell_type": "code",
      "metadata": {
        "id": "OPW5g19q6ntr"
      },
      "source": [
        "def dist_to_link(A, B, E):\r\n",
        "  '''\r\n",
        "  calculate perpendicular distance between point E and line AB\r\n",
        "  A, B, E = (lat, lon)\r\n",
        "  '''\r\n",
        " \r\n",
        "  # vector AB \r\n",
        "  AB = [None, None]; \r\n",
        "  AB[0] = B[0] - A[0]; \r\n",
        "  AB[1] = B[1] - A[1]; \r\n",
        " \r\n",
        "  # vector BP \r\n",
        "  BE = [None, None];\r\n",
        "  BE[0] = E[0] - B[0]; \r\n",
        "  BE[1] = E[1] - B[1]; \r\n",
        " \r\n",
        "  # vector AP \r\n",
        "  AE = [None, None];\r\n",
        "  AE[0] = E[0] - A[0];\r\n",
        "  AE[1] = E[1] - A[1]; \r\n",
        " \r\n",
        "  # Variables to store dot product \r\n",
        " \r\n",
        "  # Calculating the dot product \r\n",
        "  AB_BE = AB[0] * BE[0] + AB[1] * BE[1]; \r\n",
        "  AB_AE = AB[0] * AE[0] + AB[1] * AE[1]; \r\n",
        " \r\n",
        "  # Minimum distance from \r\n",
        "  # point E to the line segment \r\n",
        "  reqAns = 0; \r\n",
        " \r\n",
        "  # Case 1 \r\n",
        "  if (AB_BE > 0) :\r\n",
        " \r\n",
        "      # Finding the magnitude \r\n",
        "      y = E[1] - B[1]; \r\n",
        "      x = E[0] - B[0]; \r\n",
        "      reqAns = math.sqrt(x * x + y * y); \r\n",
        " \r\n",
        "  # Case 2 \r\n",
        "  elif (AB_AE < 0) :\r\n",
        "      y = E[1] - A[1]; \r\n",
        "      x = E[0] - A[0]; \r\n",
        "      reqAns = math.sqrt(x * x + y * y); \r\n",
        " \r\n",
        "  # Case 3 \r\n",
        "  else:\r\n",
        " \r\n",
        "      # Finding the perpendicular distance \r\n",
        "      x1 = AB[0]; \r\n",
        "      y1 = AB[1]; \r\n",
        "      x2 = AE[0]; \r\n",
        "      y2 = AE[1]; \r\n",
        "      mod = math.sqrt(x1 * x1 + y1 * y1); \r\n",
        "      reqAns = abs(x1 * y2 - y1 * x2) / mod if mod != 0 else 0; \r\n",
        "     \r\n",
        "  return reqAns;"
      ],
      "execution_count": null,
      "outputs": []
    },
    {
      "cell_type": "markdown",
      "metadata": {
        "id": "YlUtsHWtUsVB"
      },
      "source": [
        "distance formula"
      ]
    },
    {
      "cell_type": "code",
      "metadata": {
        "id": "OlqYqe9c8eV7"
      },
      "source": [
        "def dist_to_point(A, B):\r\n",
        "  '''\r\n",
        "  calculate euclidean distance between point A and point B\r\n",
        "  A = (lat, lon)\r\n",
        "  B = (lat, lon)\r\n",
        "  '''\r\n",
        "  return math.sqrt((A[0] - B[0])**2 + (A[1] - B[1])**2)"
      ],
      "execution_count": null,
      "outputs": []
    },
    {
      "cell_type": "markdown",
      "metadata": {
        "id": "gjhDwB2lUyEm"
      },
      "source": [
        "`match` is a function that takes a probe point and iterates over the linkData dataframe using the distance_to_link formula to find the nearest link for the given probe point."
      ]
    },
    {
      "cell_type": "code",
      "metadata": {
        "id": "Ikk1_iRTePHv"
      },
      "source": [
        "def match(p):\r\n",
        "  '''\r\n",
        "  Given probe point p and the linkData df,\r\n",
        "  determine which link to which p most likely belongs\r\n",
        "  '''\r\n",
        "  E = (p[4], p[5]) # coordinates of probe point\r\n",
        "\r\n",
        "  n = None # the nearest link so far\r\n",
        "  d = None # the perpendicular distance to link n\r\n",
        "\r\n",
        "  for l in linkData.itertuples():\r\n",
        "\r\n",
        "    y = l[15] # shape info\r\n",
        "    A = (y[0][0], y[0][1]) # coordinates of ref node\r\n",
        "    #B = (y[-1][0], y[-1][1]) # coordinates of nonref node\r\n",
        "    dist = dist_to_point(A, E)\r\n",
        "\r\n",
        "    if n is None or d is None or dist < d:\r\n",
        "      d = dist\r\n",
        "      n = l\r\n",
        "\r\n",
        "  A = (n[15][0][0], n[15][0][1]) # coordinates of reference point\r\n",
        "  d2 = dist_to_point(E, A)\r\n",
        "\r\n",
        "  return (n,d,d2)"
      ],
      "execution_count": null,
      "outputs": []
    },
    {
      "cell_type": "markdown",
      "metadata": {
        "id": "l-7ljFG-VNNO"
      },
      "source": [
        "apply `match` to every probe point and put the results into the output dataframe"
      ]
    },
    {
      "cell_type": "code",
      "metadata": {
        "id": "vZqiJ7Scwmrh"
      },
      "source": [
        "i = 0\r\n",
        "for p in probePoints.itertuples():\r\n",
        "  print(i, end=\", \")\r\n",
        "  if(i % 100 == 0):\r\n",
        "    print()\r\n",
        "  i += 1\r\n",
        "\r\n",
        "  (n,d,e) = match(p)\r\n",
        "  row = {\r\n",
        "    'sampleID': p[0],\r\n",
        "    'dateTime': p[1],\r\n",
        "    'sourceCode': p[2],\r\n",
        "    'latitude': p[3],\r\n",
        "    'longitude': p[4],\r\n",
        "    'altitude': p[5],\r\n",
        "    'speed': p[6],\r\n",
        "    'heading': p[7],\r\n",
        "    'linkPVID': n[0],\r\n",
        "    'direction': n[5],\r\n",
        "    'distFromRef': e,\r\n",
        "    'distFromLink': d\r\n",
        "  }\r\n",
        "  matchedPoints.append(row, ignore_index=True)"
      ],
      "execution_count": null,
      "outputs": []
    },
    {
      "cell_type": "markdown",
      "metadata": {
        "id": "Yo0pTb4keM59"
      },
      "source": [
        "# Approach #2 (original, buggy, DO NOT RUN)"
      ]
    },
    {
      "cell_type": "markdown",
      "metadata": {
        "id": "w76c-23FeQIG"
      },
      "source": [
        "## ideas\r\n",
        "- try filtering link data by the direction of travel of the probe point\r\n",
        "- track each sampleID (trajectory) separately\r\n",
        "\r\n",
        "## find links incident to a given link L\r\n",
        "get all links whose refNode matches the refNode or nonRefNode of L and get all links whose nonRefNode matches the refNode or nonRefNode of L.\r\n",
        "\r\n",
        "\r\n",
        "inspired by [http://www.vldb.org/conf/2005/papers/p853-brakatsoulas.pdf](http://www.vldb.org/conf/2005/papers/p853-brakatsoulas.pdf)\r\n"
      ]
    },
    {
      "cell_type": "markdown",
      "metadata": {
        "id": "PQLfufDMyy6b"
      },
      "source": [
        "## code"
      ]
    },
    {
      "cell_type": "markdown",
      "metadata": {
        "id": "OE_DztB6Vjjt"
      },
      "source": [
        "iterate over all probe points, adding their `sampleID`s to a python set so that we have a definite list of all of the trajectories from which points were collected"
      ]
    },
    {
      "cell_type": "code",
      "metadata": {
        "colab": {
          "base_uri": "https://localhost:8080/"
        },
        "id": "JBAOgM436Vvm",
        "outputId": "6a5eda65-59da-47e3-ecb9-b2c78c2db80b"
      },
      "source": [
        "# Find all unique SampleIDs (trajectories)\r\n",
        "samples = probePoints['sampleID']\r\n",
        "trajectories = set(())\r\n",
        "for s in samples:\r\n",
        "  trajectories.add(s)\r\n",
        "print(len(trajectories))"
      ],
      "execution_count": null,
      "outputs": [
        {
          "output_type": "stream",
          "text": [
            "75840\n"
          ],
          "name": "stdout"
        }
      ]
    },
    {
      "cell_type": "markdown",
      "metadata": {
        "id": "jETxtW_uV4uo"
      },
      "source": [
        "For each link in the road network, get a slice of the linkData dataframe consisting of all those links that have the original link's reference node as their reference node or non-reference node. This will be a list of all of the links to which the original link is incident. Add this list into a new column in the linkData dataframe."
      ]
    },
    {
      "cell_type": "code",
      "metadata": {
        "id": "VWSJKZEk7aTV"
      },
      "source": [
        "# For each road link, add a column with a list of links to which it is incident\r\n",
        "i = 0\r\n",
        "linkData['incident'] = None\r\n",
        "for l in linkData.itertuples():\r\n",
        "  if i % 500 == 0:\r\n",
        "    print(i, end=', ')\r\n",
        "  if i % 10000 == 0:\r\n",
        "    print()\r\n",
        "  i += 1\r\n",
        "\r\n",
        "  refNode = l[2]\r\n",
        "  nonRefNode = l[3]\r\n",
        "  ilinks = linkData[(linkData.refNodeID == refNode) | \r\n",
        "                    (linkData.refNodeID == nonRefNode) | \r\n",
        "                    (linkData.nrefNodeID == refNode) | \r\n",
        "                    (linkData.nrefNodeID == nonRefNode)]\r\n",
        "  linkData.at[l[0], 'incident'] = ilinks['linkPVID'].tolist()"
      ],
      "execution_count": null,
      "outputs": []
    },
    {
      "cell_type": "markdown",
      "metadata": {
        "id": "3L0RutVWW1Hg"
      },
      "source": [
        "Download the new linkData dataframe as a CSV"
      ]
    },
    {
      "cell_type": "code",
      "metadata": {
        "id": "iJcvk-BXPOPZ"
      },
      "source": [
        "# export new link data as CSV\r\n",
        "linkData.to_csv('newLinkData.csv')\r\n",
        "files.download('newLinkData.csv')"
      ],
      "execution_count": null,
      "outputs": []
    },
    {
      "cell_type": "markdown",
      "metadata": {
        "id": "aKOT4HjvW6dR"
      },
      "source": [
        "Create the output dataframe"
      ]
    },
    {
      "cell_type": "code",
      "metadata": {
        "id": "_jgkvvu3qh_f"
      },
      "source": [
        "# create the output dataframe\r\n",
        "matchedPoints = pd.DataFrame(columns=matchCols)"
      ],
      "execution_count": null,
      "outputs": []
    },
    {
      "cell_type": "markdown",
      "metadata": {
        "id": "vgfsmwmqXDcO"
      },
      "source": [
        "Distance from point to line segment [geeksforgeeks.org/minimum-distance-from-a-point-to-the-line-segment-using-vectors](https://geeksforgeeks.org/minimum-distance-from-a-point-to-the-line-segment-using-vectors)"
      ]
    },
    {
      "cell_type": "code",
      "metadata": {
        "id": "X6d18OAYyo-n"
      },
      "source": [
        "# distance from point to line\r\n",
        "# geeksforgeeks.org/minimum-distance-from-a-point-to-the-line-segment-using-vectors\r\n",
        "def minDistance(A, B, E) : \r\n",
        " \r\n",
        "    # vector AB \r\n",
        "    AB = [None, None]; \r\n",
        "    AB[0] = B[0] - A[0]; \r\n",
        "    AB[1] = B[1] - A[1]; \r\n",
        " \r\n",
        "    # vector BP \r\n",
        "    BE = [None, None];\r\n",
        "    BE[0] = E[0] - B[0]; \r\n",
        "    BE[1] = E[1] - B[1]; \r\n",
        " \r\n",
        "    # vector AP \r\n",
        "    AE = [None, None];\r\n",
        "    AE[0] = E[0] - A[0];\r\n",
        "    AE[1] = E[1] - A[1]; \r\n",
        " \r\n",
        "    # Variables to store dot product \r\n",
        " \r\n",
        "    # Calculating the dot product \r\n",
        "    AB_BE = AB[0] * BE[0] + AB[1] * BE[1]; \r\n",
        "    AB_AE = AB[0] * AE[0] + AB[1] * AE[1]; \r\n",
        " \r\n",
        "    # Minimum distance from \r\n",
        "    # point E to the line segment \r\n",
        "    reqAns = 0; \r\n",
        " \r\n",
        "    # Case 1 \r\n",
        "    if (AB_BE > 0) :\r\n",
        " \r\n",
        "        # Finding the magnitude \r\n",
        "        y = E[1] - B[1]; \r\n",
        "        x = E[0] - B[0]; \r\n",
        "        reqAns = math.sqrt(x * x + y * y); \r\n",
        " \r\n",
        "    # Case 2 \r\n",
        "    elif (AB_AE < 0) :\r\n",
        "        y = E[1] - A[1]; \r\n",
        "        x = E[0] - A[0]; \r\n",
        "        reqAns = math.sqrt(x * x + y * y); \r\n",
        " \r\n",
        "    # Case 3 \r\n",
        "    else:\r\n",
        " \r\n",
        "        # Finding the perpendicular distance \r\n",
        "        x1 = AB[0]; \r\n",
        "        y1 = AB[1]; \r\n",
        "        x2 = AE[0]; \r\n",
        "        y2 = AE[1]; \r\n",
        "        mod = math.sqrt(x1 * x1 + y1 * y1);\r\n",
        "        reqAns = 0 if mod == 0 else abs(x1 * y2 - y1 * x2) / mod; \r\n",
        "     \r\n",
        "    return reqAns; "
      ],
      "execution_count": null,
      "outputs": []
    },
    {
      "cell_type": "markdown",
      "metadata": {
        "id": "bu_obe7jXYeK"
      },
      "source": [
        "distance formula"
      ]
    },
    {
      "cell_type": "code",
      "metadata": {
        "id": "LxPyZCYH5nNb"
      },
      "source": [
        "# calculate distance between two points\r\n",
        "def distance(A, B):\r\n",
        "  # Calculating distance \r\n",
        "  return math.sqrt(math.pow(B[0] - A[0], 2) +\r\n",
        "                math.pow(B[1] - B[1], 2) * 1.0)"
      ],
      "execution_count": null,
      "outputs": []
    },
    {
      "cell_type": "markdown",
      "metadata": {
        "id": "805BfA4rXaI5"
      },
      "source": [
        "Iterate over all the _trajectories_ in the probePoints dataframe. For each trajectory (sampleID), get the slice of the probePoints that have that sampleID and sort it by time. This will get a sequence of coordinates in time. For the first point, iterate over all links to find the nearest. Then each subsequent point only needs to be matched against the links incident to one determined nearest for the previous point. This eliminates the need to check _every_ probe point against _every_ link, which drastically improves performance. Once the nearest link is determined, add the information as a row to the output dataframe."
      ]
    },
    {
      "cell_type": "code",
      "metadata": {
        "id": "B5YLhrC8Uf9o"
      },
      "source": [
        "# iterate over each trajectory\r\n",
        "i = 1\r\n",
        "for t in trajectories:\r\n",
        "  print(\"{}\".format(t), end=', ')\r\n",
        "  if i % 100 == 0:\r\n",
        "    print()\r\n",
        "  i += 1\r\n",
        "\r\n",
        "  # get the slice of the df that is relevant to this trajectory (sampleID)\r\n",
        "  singleProbe = probePoints[probePoints.sampleID == t]\r\n",
        "  # sort this new df by the datetime column\r\n",
        "  singleProbe.sort_values('dateTime')\r\n",
        "\r\n",
        "  ituples = singleProbe.itertuples()\r\n",
        "  nearestPoint = None\r\n",
        "  nearestDist = None\r\n",
        "  \r\n",
        "  # for the first point, search all links for nearest\r\n",
        "  firstPoint = next(ituples)\r\n",
        "  for l in linkData.itertuples():\r\n",
        "    ref = l[15][0]\r\n",
        "    nonref = l[15][-1]\r\n",
        "    p = (firstPoint[4], firstPoint[5])\r\n",
        "    d = minDistance(ref, nonref, p)\r\n",
        "    if nearestPoint is None or nearestDist is None or d < nearestDist:\r\n",
        "      nearestPoint = l\r\n",
        "      nearestDist = d\r\n",
        "\r\n",
        "  # create and append the first row for this trajectory\r\n",
        "  row = {\r\n",
        "    'sampleID': firstPoint[1],\r\n",
        "    'dateTime': firstPoint[2],\r\n",
        "    'sourceCode': firstPoint[3],\r\n",
        "    'latitude': firstPoint[4],\r\n",
        "    'longitude': firstPoint[5],\r\n",
        "    'altitude': firstPoint[6],\r\n",
        "    'speed': firstPoint[7],\r\n",
        "    'heading': firstPoint[8],\r\n",
        "    'linkPVID': nearestPoint[1],\r\n",
        "    'direction': nearestPoint[6],\r\n",
        "    'distFromRef': distance((firstPoint[4], firstPoint[5]), l[15][0]),\r\n",
        "    'distFromLink': nearestDist\r\n",
        "  }\r\n",
        "  matchedPoints.append(row, ignore_index=True)\r\n",
        "\r\n",
        "  # for all subsequent points, search all links that\r\n",
        "  # are incident to the previous for the nearst\r\n",
        "  for point in ituples:\r\n",
        "    incidentLinks = nearestPoint[18]\r\n",
        "    for il in incidentLinks: # il is a linkPVID incident to nearestPoint\r\n",
        "      l = linkData.loc[linkData['linkPVID'] == il]\r\n",
        "      if len(l) != 1:\r\n",
        "        print('multiple linkPVID {}'.format(il))\r\n",
        "      l = next(l.itertuples())\r\n",
        "      ref = l[15][0]\r\n",
        "      nonref = l[15][-1]\r\n",
        "      p = (point[4], point[5])\r\n",
        "      d = minDistance(ref, nonref, p)\r\n",
        "      if d < nearestDist:\r\n",
        "        nearestPoint = l\r\n",
        "        nearestDist = d\r\n",
        "\r\n",
        "    # create and append the next row for this trajectory\r\n",
        "    row = {\r\n",
        "      'sampleID': point[1],\r\n",
        "      'dateTime': point[2],\r\n",
        "      'sourceCode': point[3],\r\n",
        "      'latitude': point[4],\r\n",
        "      'longitude': point[5],\r\n",
        "      'altitude': point[6],\r\n",
        "      'speed': point[7],\r\n",
        "      'heading': point[8],\r\n",
        "      'linkPVID': nearestPoint[1],\r\n",
        "      'direction': nearestPoint[6],\r\n",
        "      'distFromRef': distance((point[4], point[5]), l[15][0]),\r\n",
        "      'distFromLink': nearestDist\r\n",
        "    }\r\n",
        "    matchedPoints.append(row, ignore_index=True)"
      ],
      "execution_count": null,
      "outputs": []
    }
  ]
}