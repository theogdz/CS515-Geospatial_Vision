{
  "nbformat": 4,
  "nbformat_minor": 0,
  "metadata": {
    "accelerator": "GPU",
    "colab": {
      "name": "SlopeNeuralNetwork.ipynb",
      "provenance": [],
      "collapsed_sections": []
    },
    "kernelspec": {
      "display_name": "Python 3",
      "name": "python3"
    }
  },
  "cells": [
    {
      "cell_type": "code",
      "metadata": {
        "id": "zBh98dagRJjR"
      },
      "source": [
        "import numpy as np\r\n",
        "import pandas as pd\r\n",
        "from functools import partial\r\n",
        "from keras import models,layers\r\n",
        "from keras.models import Sequential\r\n",
        "from keras.layers import Dense, PReLU\r\n",
        "from sklearn.model_selection import train_test_split\r\n",
        "import matplotlib.pyplot as plt"
      ],
      "execution_count": null,
      "outputs": []
    },
    {
      "cell_type": "code",
      "metadata": {
        "id": "5MJ70pg_SNNh"
      },
      "source": [
        "# Column names to read the csv file\r\n",
        "linkCols = ['linkPVID', 'refNodeID', 'nrefNodeID', 'length', 'functionalClass', 'directionOfTravel', 'speedCategory', \r\n",
        "            'fromRefSpeedLimit', 'toRefSpeedLimit', 'fromRefNumLanes', 'toRefNumLanes', 'multiDigitized', 'urban', \r\n",
        "            'timeZone', 'shapeInfo', 'curvatureInfo', 'slopeInfo']\r\n",
        "MatchCols = ['sampleID', 'dateTime', 'sourceCode', 'latitude', 'longitude', 'altitude', 'speed', 'heading', \r\n",
        "             'linkPVID', 'direction', 'distFromRef', 'distFromLink']"
      ],
      "execution_count": null,
      "outputs": []
    },
    {
      "cell_type": "code",
      "metadata": {
        "id": "KdIIRbB4SQC5"
      },
      "source": [
        "# Readind the csv files\r\n",
        "link = pd.read_csv(('Partition6467LinkData.csv'), ',', header=None, names=linkCols)\r\n",
        "df_matched_points  = pd.read_csv(('Partition6467MatchedPoints.csv'), ',', header=None, names=MatchCols)"
      ],
      "execution_count": null,
      "outputs": []
    },
    {
      "cell_type": "code",
      "metadata": {
        "id": "O7b8559Vb_st"
      },
      "source": [
        "# Dropping the rows with no slope info\r\n",
        "link = link[link[\"slopeInfo\"].notna()]"
      ],
      "execution_count": null,
      "outputs": []
    },
    {
      "cell_type": "code",
      "metadata": {
        "id": "TK_GAa4KVtUf"
      },
      "source": [
        "# Creating a dataframe which contains the average slope of the link using slopeInfo column\r\n",
        "df_avg_slope = link[['linkPVID']].copy()\r\n",
        "# Distinguishing slopes  finding average slope of a link\r\n",
        "link_slope = link['slopeInfo']\r\n",
        "link_slope = link_slope.str.split('|').tolist()\r\n",
        "avg_slope = []\r\n",
        "for i in range(len(link_slope)):\r\n",
        "  arr = link_slope[i]\r\n",
        "  avg = 0\r\n",
        "  for j in range(len(arr)):\r\n",
        "    avg += float(arr[j].split(\"/\")[1])\r\n",
        "  avg_slope.append(avg / len(arr))\r\n",
        "avg_slope = np.array(avg_slope)\r\n",
        "# Add the column to the Dataframe\r\n",
        "df_avg_slope['avg_slope'] = avg_slope"
      ],
      "execution_count": null,
      "outputs": []
    },
    {
      "cell_type": "code",
      "metadata": {
        "colab": {
          "background_save": true,
          "base_uri": "https://localhost:8080/"
        },
        "id": "eQTWOQ9YXBpI",
        "outputId": "78f2a45f-b624-416c-f027-fcd9f17ea962"
      },
      "source": [
        "# Populating X and Y to train the data\r\n",
        "p_index = 0\r\n",
        "X = []\r\n",
        "Y = []\r\n",
        "PVID = []\r\n",
        "# Iterating through every sample point and adding the change in altitude and speed, and the distance to the X array used to train the model\r\n",
        "for i,sampleID in enumerate (df_matched_points['sampleID'].unique()):\r\n",
        "  if i %100 == 0:\r\n",
        "    print(i)\r\n",
        "  time = 0\r\n",
        "  prev_alt = df_matched_points['altitude'][p_index]\r\n",
        "  prev_speed = df_matched_points['speed'][p_index]\r\n",
        "  while (p_index < len(df_matched_points) and (df_matched_points['sampleID'][p_index] == sampleID)):\r\n",
        "      # Since the rows with no slope info has been removed from link df, make sure that the algorithm does not run a row with no slope info. Could be optimized\r\n",
        "      if df_matched_points['linkPVID'][p_index] in link.values:\r\n",
        "        x = []\r\n",
        "        alt_dif = df_matched_points['altitude'][p_index] - prev_alt\r\n",
        "        prev_alt = df_matched_points['altitude'][p_index]\r\n",
        "        speed_dif = df_matched_points['speed'][p_index] - prev_speed\r\n",
        "        prev_speed = df_matched_points['speed'][p_index]\r\n",
        "        distance = prev_speed * time\r\n",
        "        time = 5 #The time interval between each probe data in seconds\r\n",
        "        # Adding these as features to X\r\n",
        "        x.append(alt_dif)\r\n",
        "        x.append(speed_dif)\r\n",
        "        x.append(distance)\r\n",
        "        x.append(float(link['length'][link['linkPVID'] == df_matched_points['linkPVID'][p_index]]))\r\n",
        "        X.append(x)\r\n",
        "        # Adding Y, the average slope\r\n",
        "        Y.append(float(df_avg_slope['avg_slope'][df_avg_slope['linkPVID'] == df_matched_points['linkPVID'][p_index]]))\r\n",
        "        PVID.append(df_matched_points['linkPVID'][p_index])\r\n",
        "      p_index += 1\r\n",
        "X = np.array(X)\r\n",
        "Y = np.array(Y)\r\n",
        "PVID = np.array(PVID)"
      ],
      "execution_count": null,
      "outputs": [
        {
          "output_type": "stream",
          "text": [
            "0\n",
            "100\n",
            "200\n",
            "300\n",
            "400\n",
            "500\n",
            "600\n",
            "700\n",
            "800\n",
            "900\n"
          ],
          "name": "stdout"
        }
      ]
    },
    {
      "cell_type": "code",
      "metadata": {
        "colab": {
          "background_save": true
        },
        "id": "3UPV1qshkQcQ",
        "outputId": "d4fbfa09-1b20-4578-9f85-8c57bcd128b6"
      },
      "source": [
        "# Normalizing the data\r\n",
        "X = (X - X.mean(axis=0)) / X.std(axis=0)\r\n",
        "# Splitting the data in training and testing set\r\n",
        "x_train, x_test, y_train, y_test = train_test_split(X, Y, test_size=0.2, random_state=42)\r\n",
        "X.shape"
      ],
      "execution_count": null,
      "outputs": [
        {
          "output_type": "execute_result",
          "data": {
            "text/plain": [
              "(27604, 4)"
            ]
          },
          "metadata": {
            "tags": []
          },
          "execution_count": 0
        }
      ]
    },
    {
      "cell_type": "code",
      "metadata": {
        "colab": {
          "background_save": true
        },
        "id": "WTbObczZqecs"
      },
      "source": [
        "# Building the model\r\n",
        "def build_model():\r\n",
        "  model = models.Sequential()\r\n",
        "  model.add(layers.Dense(16, activation = 'relu', input_shape=(4,)))\r\n",
        "  model.add(layers.Dense(32, activation = 'relu'))\r\n",
        "  model.add(layers.Dense(1))\r\n",
        "  model.compile(optimizer = 'rmsprop', loss = 'mse', metrics = ['mae'])\r\n",
        "  return model"
      ],
      "execution_count": null,
      "outputs": []
    },
    {
      "cell_type": "code",
      "metadata": {
        "id": "UhnS47fNq7qN"
      },
      "source": [
        "# Training the data\r\n",
        "model = build_model()\r\n",
        "history = model.fit(\r\n",
        "    x_train,\r\n",
        "    y_train,\r\n",
        "    epochs = 4000)"
      ],
      "execution_count": null,
      "outputs": []
    },
    {
      "cell_type": "code",
      "metadata": {
        "colab": {
          "background_save": true
        },
        "id": "2CsrLdxWXUNg",
        "outputId": "37159018-de4b-4bc0-865d-8513f8e3ac74"
      },
      "source": [
        "# PLotting to check if the model is overfitting\r\n",
        "loss = history.history[\"loss\"]\r\n",
        "val_loss = history.history['mae']\r\n",
        "epochs = range(1,len(loss)+1)\r\n",
        "plt.plot(epochs,loss,'bo',label=\"Training loss\")\r\n",
        "plt.plot(epochs, val_loss,\"b\",label=\"Validation loss\")\r\n",
        "plt.title(\"Training and Validation loss\")\r\n",
        "plt.xlabel(\"Epochs\")\r\n",
        "plt.ylabel(\"Loss\")\r\n",
        "plt.legend()\r\n",
        "plt.show()\r\n",
        "plt.clf()"
      ],
      "execution_count": null,
      "outputs": [
        {
          "output_type": "display_data",
          "data": {
            "image/png": "[encoded data removed]",
            "text/plain": [
              "<Figure size 432x288 with 1 Axes>"
            ]
          },
          "metadata": {
            "tags": []
          }
        },
        {
          "output_type": "display_data",
          "data": {
            "text/plain": [
              "<Figure size 432x288 with 0 Axes>"
            ]
          },
          "metadata": {
            "tags": []
          }
        }
      ]
    },
    {
      "cell_type": "code",
      "metadata": {
        "colab": {
          "background_save": true
        },
        "id": "kAvWI9rg1f97",
        "outputId": "1e97e545-1bf4-410a-eecf-c0b061ec8181"
      },
      "source": [
        "# Evaluating on test model\r\n",
        "results = model.evaluate(x_test, y_test)"
      ],
      "execution_count": null,
      "outputs": [
        {
          "output_type": "stream",
          "text": [
            "173/173 [==============================] - 0s 1ms/step - loss: 0.7897 - mae: 0.5990\n"
          ],
          "name": "stdout"
        }
      ]
    },
    {
      "cell_type": "code",
      "metadata": {
        "id": "JiW4XoZ42L71"
      },
      "source": [
        "# Populating the predicted slope colum\r\n",
        "result = pd.DataFrame()\r\n",
        "result[\"PVID\"] = PVID\r\n",
        "result[\"True_Slope\"] = Y\r\n",
        "result[\"Predicted_Slope\"] = model.predict(X)"
      ],
      "execution_count": 21,
      "outputs": []
    },
    {
      "cell_type": "code",
      "metadata": {
        "id": "-iMdGjtn3aIC",
        "colab": {
          "base_uri": "https://localhost:8080/",
          "height": 297
        },
        "outputId": "894c954d-2b22-4103-8773-140c988e7832"
      },
      "source": [
        "# Visualizing the data. Ideal plot looks like a straight line y = x\r\n",
        "result.plot(x=\"Predicted_Slope\", y=\"True_Slope\", kind=\"scatter\")"
      ],
      "execution_count": 15,
      "outputs": [
        {
          "output_type": "execute_result",
          "data": {
            "text/plain": [
              "<matplotlib.axes._subplots.AxesSubplot at 0x7f05312038d0>"
            ]
          },
          "metadata": {
            "tags": []
          },
          "execution_count": 15
        },
        {
          "output_type": "display_data",
          "data": {
            "image/png": "[encoded data removed]",
            "text/plain": [
              "<Figure size 432x288 with 1 Axes>"
            ]
          },
          "metadata": {
            "tags": [],
            "needs_background": "light"
          }
        }
      ]
    },
    {
      "cell_type": "code",
      "metadata": {
        "id": "0TRXliXWtEmf"
      },
      "source": [
        "# Keeping only one row per PVID\r\n",
        "result_unique = result.drop_duplicates(['PVID'],keep=False)"
      ],
      "execution_count": 22,
      "outputs": []
    },
    {
      "cell_type": "code",
      "metadata": {
        "id": "WEVemqWguZq5"
      },
      "source": [
        "# Saving a csv file\r\n",
        "result_unique.to_csv(\"slope.csv\",index=False)"
      ],
      "execution_count": 20,
      "outputs": []
    }
  ]
}