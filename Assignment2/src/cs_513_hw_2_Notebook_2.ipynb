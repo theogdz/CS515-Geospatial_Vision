{
  "nbformat": 4,
  "nbformat_minor": 0,
  "metadata": {
    "colab": {
      "name": "cs 513 hw 2 Notebook 2.ipynb",
      "provenance": [],
      "collapsed_sections": [
        "46WFEhIOZCYQ",
        "soSp3QaVbz-9"
      ]
    },
    "kernelspec": {
      "name": "python3",
      "display_name": "Python 3"
    },
    "accelerator": "GPU"
  },
  "cells": [
    {
      "cell_type": "markdown",
      "metadata": {
        "id": "Xwdb3T9UTvsQ"
      },
      "source": [
        "Notebook 2"
      ]
    },
    {
      "cell_type": "markdown",
      "metadata": {
        "id": "46WFEhIOZCYQ"
      },
      "source": [
        "# Set up"
      ]
    },
    {
      "cell_type": "markdown",
      "metadata": {
        "id": "kWDlK8MiDYiX"
      },
      "source": [
        "same as first notebook"
      ]
    },
    {
      "cell_type": "code",
      "metadata": {
        "id": "0CXIGfzezJFd"
      },
      "source": [
        "import numpy as np\r\n",
        "import pandas as pd\r\n",
        "from google.colab import files\r\n",
        "import io\r\n",
        "import math\r\n",
        "import ast\r\n",
        "from functools import partial "
      ],
      "execution_count": 1,
      "outputs": []
    },
    {
      "cell_type": "code",
      "metadata": {
        "id": "le8TLU-cz__Q",
        "colab": {
          "resources": {
            "http://localhost:8080/nbextensions/google.colab/files.js": {
              "data": "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",
              "ok": true,
              "headers": [
                [
                  "content-type",
                  "application/javascript"
                ]
              ],
              "status": 200,
              "status_text": "OK"
            }
          },
          "base_uri": "https://localhost:8080/",
          "height": 108
        },
        "outputId": "918216ee-99fd-4e81-aaff-41321d141ff4"
      },
      "source": [
        "from google.colab import files\r\n",
        "uploaded = files.upload()"
      ],
      "execution_count": 2,
      "outputs": [
        {
          "output_type": "display_data",
          "data": {
            "text/html": [
              "\n",
              "     <input type=\"file\" id=\"files-5daeb95a-4c93-4b7d-82f4-9d320a746c69\" name=\"files[]\" multiple disabled\n",
              "        style=\"border:none\" />\n",
              "     <output id=\"result-5daeb95a-4c93-4b7d-82f4-9d320a746c69\">\n",
              "      Upload widget is only available when the cell has been executed in the\n",
              "      current browser session. Please rerun this cell to enable.\n",
              "      </output>\n",
              "      <script src=\"/nbextensions/google.colab/files.js\"></script> "
            ],
            "text/plain": [
              "<IPython.core.display.HTML object>"
            ]
          },
          "metadata": {
            "tags": []
          }
        },
        {
          "output_type": "stream",
          "text": [
            "Saving Partition6467LinkData.csv to Partition6467LinkData.csv\n",
            "Saving Partition6467ProbePoints.csv to Partition6467ProbePoints.csv\n"
          ],
          "name": "stdout"
        }
      ]
    },
    {
      "cell_type": "code",
      "metadata": {
        "id": "_VdPsKDq0W96"
      },
      "source": [
        "probeCols = ['sampleID', 'dateTime', 'sourceCode', 'latitude', 'longitude', 'altitude', 'speed', 'heading']\r\n",
        "matchCols = ['sampleID', 'dateTime', 'sourceCode', 'latitude', 'longitude', 'altitude', 'speed', 'heading', \r\n",
        "             'linkPVID', 'direction', 'distFromRef', 'distFromLink']\r\n",
        "linkCols = ['linkPVID', 'refNodeID', 'nrefNodeID', 'length', 'functionalClass', 'directionOfTravel', 'speedCategory', \r\n",
        "            'fromRefSpeedLimit', 'toRefSpeedLimit', 'fromRefNumLanes', 'toRefNumLanes', 'multiDigitized', 'urban', \r\n",
        "            'timeZone', 'shapeInfo', 'curvatureInfo', 'slopeInfo']"
      ],
      "execution_count": 3,
      "outputs": []
    },
    {
      "cell_type": "code",
      "metadata": {
        "id": "4edxTzFZr8H1"
      },
      "source": [
        "probePoints = pd.read_csv(io.BytesIO(uploaded['Partition6467ProbePoints.csv']), ',', header=None, names=probeCols)\r\n",
        "linkData = pd.read_csv(io.BytesIO(uploaded['Partition6467LinkData.csv']), ',', header=None, names=linkCols)"
      ],
      "execution_count": 4,
      "outputs": []
    },
    {
      "cell_type": "markdown",
      "metadata": {
        "id": "soSp3QaVbz-9"
      },
      "source": [
        "# Parse"
      ]
    },
    {
      "cell_type": "markdown",
      "metadata": {
        "id": "16RQtC_NDrMj"
      },
      "source": [
        "same as first notebook, and includes creation of `incident` column"
      ]
    },
    {
      "cell_type": "code",
      "metadata": {
        "id": "8TM4QpQ4b-I1"
      },
      "source": [
        "def stof(x):\r\n",
        "  if x is not '':\r\n",
        "    return float(x)\r\n",
        "  else:\r\n",
        "    return np.NaN\r\n",
        "\r\n",
        "def parseInfo(x):\r\n",
        "  if x is not None and x is not np.NaN:\r\n",
        "    a = x.split('|')\r\n",
        "    z = []\r\n",
        "    for y in a:\r\n",
        "      z.append(tuple(map(stof, y.split('/'))))\r\n",
        "    return z"
      ],
      "execution_count": 5,
      "outputs": []
    },
    {
      "cell_type": "code",
      "metadata": {
        "id": "1AtvUkI4cAFm"
      },
      "source": [
        "linkData['shapeInfo'] = linkData['shapeInfo'].apply(parseInfo)\r\n",
        "linkData['curvatureInfo'] = linkData['curvatureInfo'].apply(parseInfo)\r\n",
        "linkData['slopeInfo'] = linkData['slopeInfo'].apply(parseInfo)"
      ],
      "execution_count": 6,
      "outputs": []
    },
    {
      "cell_type": "code",
      "metadata": {
        "id": "W7OZipoNcCQm"
      },
      "source": [
        "# For each road link, add a column with a list of links to which it is incident\r\n",
        "i = 0\r\n",
        "linkData['incident'] = None\r\n",
        "for l in linkData.itertuples():\r\n",
        "  if i % 500 == 0:\r\n",
        "    print(i, end=', ')\r\n",
        "  if i % 10000 == 0:\r\n",
        "    print()\r\n",
        "  i += 1\r\n",
        "\r\n",
        "  refNode = l[2]\r\n",
        "  nonRefNode = l[3]\r\n",
        "  ilinks = linkData[(linkData.refNodeID == refNode) | \r\n",
        "                    (linkData.refNodeID == nonRefNode) | \r\n",
        "                    (linkData.nrefNodeID == refNode) | \r\n",
        "                    (linkData.nrefNodeID == nonRefNode)]\r\n",
        "  linkData.at[l[0], 'incident'] = ilinks['linkPVID'].tolist()"
      ],
      "execution_count": null,
      "outputs": []
    },
    {
      "cell_type": "markdown",
      "metadata": {
        "id": "Yo0pTb4keM59"
      },
      "source": [
        "# Approach #2 (revisions)"
      ]
    },
    {
      "cell_type": "markdown",
      "metadata": {
        "id": "QWhOetqwFEwb"
      },
      "source": [
        "## Unchanged cells"
      ]
    },
    {
      "cell_type": "code",
      "metadata": {
        "id": "_jgkvvu3qh_f"
      },
      "source": [
        "# create the output dataframe\r\n",
        "matchedPoints = pd.DataFrame(columns=matchCols)"
      ],
      "execution_count": 50,
      "outputs": []
    },
    {
      "cell_type": "code",
      "metadata": {
        "colab": {
          "base_uri": "https://localhost:8080/"
        },
        "id": "f3JWfULTVR15",
        "outputId": "b97d0606-ab7f-47ba-fb11-116e40bc82a7"
      },
      "source": [
        "print(matchedPoints)"
      ],
      "execution_count": 51,
      "outputs": [
        {
          "output_type": "stream",
          "text": [
            "Empty DataFrame\n",
            "Columns: [sampleID, dateTime, sourceCode, latitude, longitude, altitude, speed, heading, linkPVID, direction, distFromRef, distFromLink]\n",
            "Index: []\n"
          ],
          "name": "stdout"
        }
      ]
    },
    {
      "cell_type": "code",
      "metadata": {
        "id": "JBAOgM436Vvm"
      },
      "source": [
        "# Find all unique SampleIDs (trajectories)\r\n",
        "samples = probePoints['sampleID']\r\n",
        "trajectories = set(())\r\n",
        "for s in samples:\r\n",
        "  trajectories.add(s)"
      ],
      "execution_count": 9,
      "outputs": []
    },
    {
      "cell_type": "markdown",
      "metadata": {
        "id": "3iqG_ZKZF-xX"
      },
      "source": [
        "`minDistance`: same functionality as `dist_to_link`, but uncessary operations and variables are removed"
      ]
    },
    {
      "cell_type": "code",
      "metadata": {
        "id": "X6d18OAYyo-n"
      },
      "source": [
        "# distance from point to line\r\n",
        "# geeksforgeeks.org/minimum-distance-from-a-point-to-the-line-segment-using-vectors\r\n",
        "def minDistance(A, B, E):\r\n",
        "    if ((B[0]-A[0]) * (E[0]-B[0]) + (B[1]-A[1]) * (E[1]-B[1]) > 0) or ((B[0]-A[0]) * (E[0]-A[0]) + (B[1]-A[1]) * (E[1]-A[1]) < 0):\r\n",
        "      return -1\r\n",
        "    mod = np.sqrt((B[0]-A[0])*(B[0]-A[0]) + (B[1]-A[1])*(B[1]-A[1]))\r\n",
        "    return 0 if mod == 0 else abs((B[0]-A[0]) * (E[1]-A[1]) - (B[1]-A[1]) * (E[0]-A[0])) / mod"
      ],
      "execution_count": 10,
      "outputs": []
    },
    {
      "cell_type": "markdown",
      "metadata": {
        "id": "qqvxcSjoGtnr"
      },
      "source": [
        "`distance`: same functionality as `dist_to_point`, but edited in an attempt to speed it up"
      ]
    },
    {
      "cell_type": "code",
      "metadata": {
        "id": "LxPyZCYH5nNb"
      },
      "source": [
        "# calculate distance between two points\r\n",
        "def distance(A, B):\r\n",
        "  return math.sqrt((B[0]-A[0])*(B[0]-A[0]) + (B[1]-A[1])*(B[1]-A[1]))"
      ],
      "execution_count": 25,
      "outputs": []
    },
    {
      "cell_type": "markdown",
      "metadata": {
        "id": "JVv-Hy-uHC7G"
      },
      "source": [
        "sort `probePoints` first so that it does not have to be sorted in the main algorithm"
      ]
    },
    {
      "cell_type": "code",
      "metadata": {
        "id": "uWQFUzs-Insv"
      },
      "source": [
        "# sort this new df by the datetime column\r\n",
        "probePoints.sort_values('dateTime', inplace=True)"
      ],
      "execution_count": 12,
      "outputs": []
    },
    {
      "cell_type": "markdown",
      "metadata": {
        "id": "96SsOGJ6dmkM"
      },
      "source": [
        "## Approach #2 (revision 1: slower, buggy, DO NOT RUN)\r\n",
        "\r\n"
      ]
    },
    {
      "cell_type": "markdown",
      "metadata": {
        "id": "biNZaazDNTeX"
      },
      "source": [
        "These functions enable the usage of the pandas dataframe `apply` function, which has been described by multiple sources as a way to make iterative algorithms more efficient; however, this ended up being the slower technique. `partialApplyMinDist` was tried once and then bypassed by a `lambda` instead. Neither ended up being faster than the other."
      ]
    },
    {
      "cell_type": "code",
      "metadata": {
        "id": "oUtS34I7aR2t"
      },
      "source": [
        "# curried functions for new (slower) method\r\n",
        "def applyMinDist(p, x):\r\n",
        "  ref = x[14][0]\r\n",
        "  nonref = x[14][-1]\r\n",
        "  return minDistance(ref, nonref, p)\r\n",
        "\r\n",
        "def partialApplyMinDist(p):\r\n",
        "  return partial(applyMinDist, p)"
      ],
      "execution_count": null,
      "outputs": []
    },
    {
      "cell_type": "markdown",
      "metadata": {
        "id": "FDzlrvaJNqJ7"
      },
      "source": [
        "The main algorithm, except the `apply` dataframe function is used in conjunction with the partially applied function above. Because of how `apply` works and the fact that `minDistance` takes two parameters, it was necessary to create the secondary, partially applied function."
      ]
    },
    {
      "cell_type": "markdown",
      "metadata": {
        "id": "0HHJGEN-Ocq8"
      },
      "source": [
        "Once it was determined that `partialApplyMinDist` didn't improve runtime, it was postulated that this incurred too much overhead, so it was replaced with a simple `lambda` function. This did not change the runtime."
      ]
    },
    {
      "cell_type": "code",
      "metadata": {
        "id": "eVd2lQymdeNt"
      },
      "source": [
        "# iterate over each trajectory\r\n",
        "i = 1\r\n",
        "for t in trajectories:\r\n",
        "  print(\"{}\".format(t), end=', ')\r\n",
        "  if i % 100 == 0:\r\n",
        "    print()\r\n",
        "  i += 1\r\n",
        "\r\n",
        "  # get the slice of the df that is relevant to this trajectory (sampleID)\r\n",
        "  singleProbe = probePoints[probePoints.sampleID == t]\r\n",
        "\r\n",
        "  ituples = singleProbe.itertuples()\r\n",
        "  nearestPoint = None\r\n",
        "  nearestDist = None\r\n",
        "  \r\n",
        "  # for the first point, search all links for nearest\r\n",
        "  firstPoint = next(ituples)\r\n",
        "  p = (firstPoint[4], firstPoint[5])\r\n",
        "  distances = linkData.apply(lambda x: applyMinDist(p, x), axis=1)\r\n",
        "  nearestPoint = linkData.iloc[distances.idxmin()]\r\n",
        "  nearestDist = distances.min()\r\n",
        "\r\n",
        "  # create and append the first row for this trajectory\r\n",
        "  row = {\r\n",
        "    'sampleID': firstPoint[1],\r\n",
        "    'dateTime': firstPoint[2],\r\n",
        "    'sourceCode': firstPoint[3],\r\n",
        "    'latitude': firstPoint[4],\r\n",
        "    'longitude': firstPoint[5],\r\n",
        "    'altitude': firstPoint[6],\r\n",
        "    'speed': firstPoint[7],\r\n",
        "    'heading': firstPoint[8],\r\n",
        "    'linkPVID': nearestPoint[0],\r\n",
        "    'direction': nearestPoint[5],\r\n",
        "    'distFromRef': distance((firstPoint[4], firstPoint[5]), nearestPoint[14][0]),\r\n",
        "    'distFromLink': nearestDist\r\n",
        "  }\r\n",
        "  matchedPoints.append(row, ignore_index=True)\r\n",
        "\r\n",
        "  # for all subsequent points, search all links that\r\n",
        "  # are incident to the previous for the nearst\r\n",
        "  for point in ituples:\r\n",
        "    incidentLinks = nearestPoint[17]\r\n",
        "    for il in incidentLinks: # il is a linkPVID incident to nearestPoint\r\n",
        "      l = linkData.loc[linkData['linkPVID'] == il].iloc[0]\r\n",
        "      ref = l[14][0]\r\n",
        "      nonref = l[14][-1]\r\n",
        "      p = (point[4], point[5])\r\n",
        "      d = minDistance(ref, nonref, p)\r\n",
        "      if d < nearestDist:\r\n",
        "        nearestPoint = l\r\n",
        "        nearestDist = d\r\n",
        "\r\n",
        "    # create and append the next row for this trajectory\r\n",
        "    row = {\r\n",
        "      'sampleID': point[1],\r\n",
        "      'dateTime': point[2],\r\n",
        "      'sourceCode': point[3],\r\n",
        "      'latitude': point[4],\r\n",
        "      'longitude': point[5],\r\n",
        "      'altitude': point[6],\r\n",
        "      'speed': point[7],\r\n",
        "      'heading': point[8],\r\n",
        "      'linkPVID': nearestPoint[0],\r\n",
        "      'direction': nearestPoint[5],\r\n",
        "      'distFromRef': distance((point[4], point[5]), nearestPoint[14][0]),\r\n",
        "      'distFromLink': nearestDist\r\n",
        "    }\r\n",
        "    matchedPoints.append(row, ignore_index=True)"
      ],
      "execution_count": null,
      "outputs": []
    },
    {
      "cell_type": "markdown",
      "metadata": {
        "id": "jvYEmYUodi2G"
      },
      "source": [
        "## Approach #2 (final revision, bug fixes)"
      ]
    },
    {
      "cell_type": "markdown",
      "metadata": {
        "id": "a4nP3JfdP4yO"
      },
      "source": [
        "The main algorithm, reverted away from the pandas `apply` function and opted for regular iteration. Although the fastest of all the revisions, it is not fast enough to be convenient. Some tweaks and bug fixes have been made here which differentiate it from previous versions."
      ]
    },
    {
      "cell_type": "code",
      "metadata": {
        "colab": {
          "base_uri": "https://localhost:8080/"
        },
        "id": "B5YLhrC8Uf9o",
        "outputId": "801581da-ad6a-4a45-fd53-f71ceddc04bc"
      },
      "source": [
        "# iterate over each trajectory\r\n",
        "i = 1\r\n",
        "for t in trajectories:\r\n",
        "  print(t, end=', ')\r\n",
        "  if i % 100 == 0:\r\n",
        "    print()\r\n",
        "  i += 1\r\n",
        "  if i == 1000:\r\n",
        "    break\r\n",
        "\r\n",
        "  # get the slice of the df that is relevant to this trajectory (sampleID)\r\n",
        "  singleProbe = probePoints[probePoints.sampleID == t]\r\n",
        "\r\n",
        "  ituples = singleProbe.itertuples()\r\n",
        "  nearestPoint = None\r\n",
        "  nearestDist = None\r\n",
        "  \r\n",
        "  # for the first point, search all links for nearest\r\n",
        "  firstPoint = next(ituples)\r\n",
        "  p = (firstPoint[4], firstPoint[5])\r\n",
        "  for l in linkData.itertuples(index=False):\r\n",
        "    ref = l[14][0]\r\n",
        "    nonref = l[14][-1]\r\n",
        "    d = minDistance(ref, nonref, p)\r\n",
        "    if nearestPoint is None or nearestDist is None or nearestDist < 0 or (d > 0 and d < nearestDist):\r\n",
        "      nearestPoint = l\r\n",
        "      nearestDist = d\r\n",
        "\r\n",
        "  # create and append the first row for this trajectory\r\n",
        "  row = {\r\n",
        "    'sampleID': firstPoint[1],\r\n",
        "    'dateTime': firstPoint[2],\r\n",
        "    'sourceCode': firstPoint[3],\r\n",
        "    'latitude': firstPoint[4],\r\n",
        "    'longitude': firstPoint[5],\r\n",
        "    'altitude': firstPoint[6],\r\n",
        "    'speed': firstPoint[7],\r\n",
        "    'heading': firstPoint[8],\r\n",
        "    'linkPVID': nearestPoint[0],\r\n",
        "    'direction': nearestPoint[5],\r\n",
        "    'distFromRef': distance((firstPoint[4], firstPoint[5]), nearestPoint[14][0]),\r\n",
        "    'distFromLink': nearestDist\r\n",
        "  }\r\n",
        "  matchedPoints = matchedPoints.append(row, ignore_index=True)\r\n",
        "\r\n",
        "  # for all subsequent points, search all links that\r\n",
        "  # are incident to the previous for the nearst\r\n",
        "  for point in ituples:\r\n",
        "    incidentLinks = nearestPoint[17]\r\n",
        "    nearestPoint = None\r\n",
        "    nearestDist = None\r\n",
        "    for il in incidentLinks: # il is a linkPVID incident to nearestPoint\r\n",
        "      l = linkData.loc[linkData['linkPVID'] == il].iloc[0]\r\n",
        "      ref = l[14][0]\r\n",
        "      nonref = l[14][-1]\r\n",
        "      p = (point[4], point[5])\r\n",
        "      d = minDistance(ref, nonref, p)\r\n",
        "      if nearestPoint is None or nearestDist is None or nearestDist < 0 or (d > 0 and d < nearestDist):\r\n",
        "        nearestPoint = l\r\n",
        "        nearestDist = d\r\n",
        "\r\n",
        "    # create and append the next row for this trajectory\r\n",
        "    row = {\r\n",
        "      'sampleID': point[1],\r\n",
        "      'dateTime': point[2],\r\n",
        "      'sourceCode': point[3],\r\n",
        "      'latitude': point[4],\r\n",
        "      'longitude': point[5],\r\n",
        "      'altitude': point[6],\r\n",
        "      'speed': point[7],\r\n",
        "      'heading': point[8],\r\n",
        "      'linkPVID': nearestPoint[0],\r\n",
        "      'direction': nearestPoint[5],\r\n",
        "      'distFromRef': distance((point[4], point[5]), nearestPoint[14][0]),\r\n",
        "      'distFromLink': nearestDist\r\n",
        "    }\r\n",
        "    matchedPoints = matchedPoints.append(row, ignore_index=True)\r\n",
        "    "
      ],
      "execution_count": 52,
      "outputs": [
        {
          "output_type": "stream",
          "text": [
            "4456449, 1179651, 2359299, 3538948, 3538950, 4587527, 4587528, 4718597, 1310730, 5505027, 5505033, 2490382, 3021986, 4980752, 1703955, 1703956, 1703957, 1703958, 2490387, 3801111, 3801112, 3334607, 4980758, 4980766, 5601095, 4980771, 2883620, 5767206, 5418736, 2621482, 4849706, 3801132, 4980781, 5242926, 2097200, 2097201, 3407926, 1310775, 2359352, 5767226, 5505090, 5767236, 4798517, 3276871, 3407950, 5242959, 4194386, 4718674, 4980818, 3276888, 3539032, 4194394, 3801183, 2883682, 3276898, 4194403, 4980838, 917608, 3145838, 1572975, 5111925, 1589170, 4587641, 1979944, 4456572, 1589171, 1572991, 917632, 917633, 917634, 917635, 917636, 1572992, 1572993, 1572994, 1572995, 1589172, 2752643, 3801219, 3751455, 5111952, 5505169, 5158242, 2490523, 3408028, 1310878, 5243043, 4980908, 5243052, 3014832, 4272496, 5767356, 3932352, 3670209, 4980931, 4194502, 2500991, 4980936, 3670218, 4642219, \n",
            "4849873, 3277012, 3277013, 3277014, 3277015, 3277016, 3277017, 3277018, 2883803, 3539159, 4849885, 4849886, 5575080, 1966305, 4849889, 4849890, 4849891, 4849892, 4849893, 4849894, 2359528, 4849895, 4849896, 4849897, 4849898, 3621038, 4849899, 4849900, 4849901, 3670257, 1310962, 4587762, 4849902, 4849906, 4849907, 3670263, 4849908, 4849910, 4849911, 917755, 917756, 917757, 917758, 917759, 917760, 917761, 917762, 4718851, 4849915, 4849916, 3621039, 4849920, 4849921, 4849922, 4849923, 4849924, 4849925, 4849926, 4849927, 4849928, 4849929, 4849930, 1573138, 4849933, 4849934, 4849935, 4849936, 1048855, 1048856, 1048857, 1048858, 2359575, 4849939, 4849940, 4849941, 4849942, 4849943, 4849944, 4849945, 4849946, 4849947, 4587813, 4849949, 4849950, 3408168, 4849952, 4849953, 3408171, 1704236, 3014957, 4849957, 3932463, 4819602, 5243192, 2752825, 3408188, 3014975, 4456768, 3014977, 131394, \n",
            "131395, 131396, 131397, 131398, 131399, 131400, 131401, 131402, 131403, 131404, 131405, 131406, 131407, 131408, 2359627, 3647287, 3277141, 2752854, 2752855, 2752856, 2752857, 2752858, 2752859, 4428836, 4850005, 5112151, 655715, 655716, 655717, 655718, 655719, 655720, 655721, 655722, 655723, 655724, 655725, 1048939, 1966441, 2813642, 3015021, 3015023, 3015025, 3539309, 3277174, 3408246, 5112184, 3277179, 4587901, 3801471, 5767551, 3146113, 3277185, 1966467, 2228611, 5085086, 3277190, 5243267, 5112201, 3539340, 5767564, 1966480, 3539344, 3801488, 1311125, 2883989, 3932567, 2228632, 2228633, 2228634, 2228635, 2359708, 2752924, 4587936, 4194722, 5374371, 5374372, 5374373, 5374374, 5374375, 5374376, 3829450, 5374377, 1311147, 5374378, 4719021, 5374379, 5374380, 4456880, 5374381, 5374382, 2917863, 4194740, 4587956, 5374383, 3146167, 5374384, 5112249, 5374385, 3932603, \n",
            "5374387, 5374388, 5374389, 5374390, 5374391, 5374392, 5374393, 5374394, 2884036, 3933878, 4063684, 5767615, 2884045, 3146189, 4587982, 4507015, 4850128, 1311186, 5505486, 3932630, 4719062, 5636566, 5767639, 3408353, 3932643, 3408356, 5809599, 1049066, 4588014, 4850159, 3408368, 1966583, 5243384, 4456955, 3932675, 4116252, 2359816, 4194826, 4063758, 4876687, 786964, 3539476, 1442326, 1311255, 2753048, 5767699, 5243418, 5505562, 5767706, 4719133, 3408417, 4850214, 5112358, 1966632, 5505577, 4819652, 4194863, 4588080, 3932722, 1180211, 1442356, 2753084, 4719164, 3670590, 1966657, 1442370, 4588102, 2490953, 3277391, 3670607, 2359889, 2753113, 3670620, 5505633, 4457066, 4981358, 3408499, 4063859, 3670645, 3907863, 3801732, 5243528, 3277449, 3670667, 4981389, 4981390, 2097807, 4981391, 4981392, 4981393, 4981394, 4981395, 4981396, 4981397, 4981398, 2491032, 3539608, 3146394, 4981399, 2359964, \n",
            "4981400, 4981401, 4981402, 4981403, 4981404, 4981405, 4981406, 4981407, 4588197, 4981408, 4981409, 4981410, 5112494, 4719280, 3015348, 5112510, 131781, 131782, 131783, 131784, 131785, 131786, 131787, 131788, 131789, 131790, 131791, 131792, 131793, 131794, 131795, 131796, 3408591, 3670736, 4588240, 3204489, 3146459, 3801822, 4719331, 3146476, 4298660, 4850418, 4719348, 3932917, 4719354, 5137202, 4457215, 2753283, 3932931, 4981507, 5243656, 3408649, 4663387, 3408651, 1180430, 3308453, 656148, 3932955, 656156, 656157, 656158, 656159, 2884382, 3801890, 3015462, 4719401, 5243691, 5767984, 3408691, 4793654, 5243709, 2360126, 2884414, 3801919, 1049412, 1049413, 1049414, 1049415, 1049416, 918345, 1049418, 1049419, 1049420, 1049421, 918350, 918351, 918352, 918353, 918354, 918355, 918356, 918357, 918358, 2360142, 3178462, 4588368, 5112666, 2884443, 4981598, 4981599, \n",
            "918368, 4850529, 4981600, 4981601, 3015524, 787301, 787302, 1180519, 1180520, 1180521, 1180522, 1180523, 1180524, 1180525, 1180526, 1180527, 1180528, 1180529, 1180530, 1180531, 1180532, 1180533, 1180534, 1180535, 1180536, 1180537, 1835896, 2098038, 2753401, 3408763, 4850557, 5505917, 3704426, 4981632, 3015558, 3015559, 3015560, 2622345, 3670920, 3539851, 3871150, 4850573, 3015566, 3802001, 5243796, 3543197, 5505943, 1835929, 4588441, 3408799, 1835939, 3146663, 3933096, 3408811, 3146669, 3539885, 3539886, 132017, 132018, 132019, 132020, 132021, 132022, 132023, 132024, 132025, 3750246, 2813761, 4719555, 3256639, 4976043, 3277769, 4976044, 5243855, 5112784, 5768145, 3933143, 2753496, 4850649, 4850650, 3408859, 3671004, 4457437, 3933150, 4981723, 4588515, 787429, 787430, 787431, 787432, 3802088, 4588521, 1573867, 4588522, 5243877, 3751627, 4981747, 5210517, 2753527, 2491384, \n",
            "3408887, 3933178, 4457464, 4588538, 5506041, 3539966, 5374975, 1836034, 4981762, 2622468, 4719621, 4981766, 5374983, 3408907, 787468, 2491405, 3146766, 3671051, 2229264, 3671057, 4981772, 4981773, 2098200, 2098201, 1442842, 2098202, 2098203, 3408925, 2098206, 2098207, 2098208, 2098209, 2098210, 2098211, 3540000, 4588573, 4588574, 4588575, 2360360, 3146793, 3671082, 4588581, 4457521, 3802163, 2884660, 4719669, 5375031, 4588601, 2098236, 2098237, 2098238, 2098239, 2753599, 5243964, 5601306, 3933257, 1442891, 3933260, 5549205, 2229327, 2229328, 2753615, 2884688, 4195410, 4981839, 1836118, 1836119, 1836120, 1836121, 1836122, 1836123, 1836124, 1836125, 1836126, 1836127, 1836128, 4195425, 1180777, 3671151, 1836145, 1836146, 1836147, 1836148, 781774, 1836149, 1836150, 1049720, 1836151, 781775, 1836152, 525436, 525437, 525438, 525439, 525440, 525441, 525442, 525443, 525444, 781776, \n",
            "781777, 1836158, 1836159, 781778, 1836161, 1836162, 525452, 525453, 525454, 525455, 525456, 525457, 525458, 525459, 525460, 525461, 525462, 525463, 525464, 525465, 525466, 525467, 525468, 525469, 525470, 525471, 2918012, 4457628, 4871879, 2491555, 5112990, 5184499, 525479, 525480, 525481, 525482, 525483, 525484, 525485, 525486, 525487, 525488, 525489, 525490, 525491, 525492, 525493, 525494, 3802288, 5002142, 4981946, 3409088, 2599895, 2622661, 3278022, 3146957, 4195537, 4195538, 4195539, 4195540, 4195541, 4195542, 4195543, 4089988, 4195544, 4195545, 4981970, 5113043, 2098397, 2098398, 2098399, 2098400, 2098401, 2098402, 2098403, 4588770, 2491621, 4588772, 1180903, 2491623, 2491624, 2491625, 2491626, 2491627, 2491628, 2491629, 2491630, 2491631, 2491632, 2491633, 2491634, 2491635, 3146989, 5244148, 5768437, 3409146, 3933434, 4481125, 5054260, 3409151, \n",
            "5113088, 5244158, 5506304, 3569321, 2491653, 2491654, 2491655, 2491656, 2491657, 2491658, 2491659, 2491660, 2491661, 2334182, 2491662, 2491663, 2491664, 2491665, 2491666, 2491667, 2491668, 2491669, 2491670, 2491671, 2491672, 132378, 132379, 132380, 2491673, 2491674, 2491675, 2491676, 2491677, 4457765, 5506344, 2318853, 2360620, 3802412, 2318854, 2753839, 5506356, 5244221, 5210583, 1967429, 3147080, 3802440, 5375305, 5710338, 4851025, 3671381, 3350157, 3016024, 3147100, 4588899, 5419003, 5710339, 1049962, 1049963, 1049964, 1049965, 1049966, 1049967, 1049968, 1049969, 1049970, 1049971, 1049972, 1049973, 1312111, 1049975, 1049976, 1049977, 1049978, 1049979, 1049980, 3802491, 4272737, 4851067, 5768573, 4457859, 2753925, 1836422, 3409286, 4457863, 4720006, 3933579, 4195724, 3671438, 1705368, 3147161, 3540383, 5506463, 2491813, 3802535, 3540393, 2360753, 5710342, 2229688, 2098618, 3409339, \n",
            "4455112, 2709657, 2475194, 2491848, 2491849, 2491850, 1050060, 1050061, 2491851, 1050063, 1050064, 2491852, 2491853, 2491854, 1050068, 1050069, 1050070, 1050071, 1050072, 1050073, 1050074, 2229720, 4064723, 2754013, 4064725, 4064726, 4064727, 4064728, 4064729, 4064730, 4064731, 4064732, 4064733, 4064734, 4064735, 4064736, 787946, 4457956, 5113319, 1050097, 1050098, 1050099, 1050100, 1050101, 1050102, 1050103, 1050104, 1050105, 1050106, 1050107, 1050108, 1050109, 1050110, 1050111, 1050112, 1050113, 1050114, 1050115, 1050116, 1050117, 1050118, 1050119, 1050120, 2754055, 3439114, 3671555, 3671556, 3016205, 4457990, 4457991, 1574416, 1574417, 4457993, 787987, 787988, 787989, 787990, 787991, 787992, 787993, 787994, 787995, 787996, 787997, 787998, 787999, 788000, 788001, 788002, 788003, 788004, 788005, 788006, 1641561, 1641562, 2360872, 1641563, 2360873, 2360874, "
          ],
          "name": "stdout"
        }
      ]
    },
    {
      "cell_type": "code",
      "metadata": {
        "colab": {
          "base_uri": "https://localhost:8080/",
          "height": 17
        },
        "id": "TvCToon7KMP0",
        "outputId": "485052b2-0891-4612-bdb8-4398e9509dc7"
      },
      "source": [
        "# export new link data as CSV\r\n",
        "matchedPoints.to_csv('Partition6467MatchedPoints.csv')\r\n",
        "files.download('Partition6467MatchedPoints.csv')"
      ],
      "execution_count": 53,
      "outputs": [
        {
          "output_type": "display_data",
          "data": {
            "application/javascript": [
              "\n",
              "    async function download(id, filename, size) {\n",
              "      if (!google.colab.kernel.accessAllowed) {\n",
              "        return;\n",
              "      }\n",
              "      const div = document.createElement('div');\n",
              "      const label = document.createElement('label');\n",
              "      label.textContent = `Downloading \"${filename}\": `;\n",
              "      div.appendChild(label);\n",
              "      const progress = document.createElement('progress');\n",
              "      progress.max = size;\n",
              "      div.appendChild(progress);\n",
              "      document.body.appendChild(div);\n",
              "\n",
              "      const buffers = [];\n",
              "      let downloaded = 0;\n",
              "\n",
              "      const channel = await google.colab.kernel.comms.open(id);\n",
              "      // Send a message to notify the kernel that we're ready.\n",
              "      channel.send({})\n",
              "\n",
              "      for await (const message of channel.messages) {\n",
              "        // Send a message to notify the kernel that we're ready.\n",
              "        channel.send({})\n",
              "        if (message.buffers) {\n",
              "          for (const buffer of message.buffers) {\n",
              "            buffers.push(buffer);\n",
              "            downloaded += buffer.byteLength;\n",
              "            progress.value = downloaded;\n",
              "          }\n",
              "        }\n",
              "      }\n",
              "      const blob = new Blob(buffers, {type: 'application/binary'});\n",
              "      const a = document.createElement('a');\n",
              "      a.href = window.URL.createObjectURL(blob);\n",
              "      a.download = filename;\n",
              "      div.appendChild(a);\n",
              "      a.click();\n",
              "      div.remove();\n",
              "    }\n",
              "  "
            ],
            "text/plain": [
              "<IPython.core.display.Javascript object>"
            ]
          },
          "metadata": {
            "tags": []
          }
        },
        {
          "output_type": "display_data",
          "data": {
            "application/javascript": [
              "download(\"download_a4a142b0-c419-4c12-90e4-fc26b572d7fd\", \"Partition6467MatchedPoints.csv\", 5298812)"
            ],
            "text/plain": [
              "<IPython.core.display.Javascript object>"
            ]
          },
          "metadata": {
            "tags": []
          }
        }
      ]
    },
    {
      "cell_type": "code",
      "metadata": {
        "id": "DXLXDGm-d7Pb"
      },
      "source": [
        "click = 1"
      ],
      "execution_count": 60,
      "outputs": []
    }
  ]
}